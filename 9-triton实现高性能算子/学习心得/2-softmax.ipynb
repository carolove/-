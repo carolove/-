{
 "cells": [
  {
   "cell_type": "code",
   "execution_count": 5,
   "metadata": {},
   "outputs": [
    {
     "name": "stdout",
     "output_type": "stream",
     "text": [
      "tensor([[9.1105e-04, 9.9909e-01],\n",
      "        [1.0000e+00, 9.6027e-24]])\n"
     ]
    }
   ],
   "source": [
    "import torch\n",
    "\n",
    "def native_softmax(x):\n",
    "    x_max = x.max(dim=1)[0]\n",
    "\n",
    "    z = x - x_max[:,None]\n",
    "\n",
    "    e = torch.exp(z)\n",
    "    sum = e.sum(dim=1)\n",
    "\n",
    "    return e/sum[:,None]\n",
    "\n",
    "\n",
    "x = torch.Tensor([[2,9],[54,1]])\n",
    "print(native_softmax(x))"
   ]
  }
 ],
 "metadata": {
  "kernelspec": {
   "display_name": "sglang",
   "language": "python",
   "name": "python3"
  },
  "language_info": {
   "codemirror_mode": {
    "name": "ipython",
    "version": 3
   },
   "file_extension": ".py",
   "mimetype": "text/x-python",
   "name": "python",
   "nbconvert_exporter": "python",
   "pygments_lexer": "ipython3",
   "version": "3.10.15"
  }
 },
 "nbformat": 4,
 "nbformat_minor": 2
}
