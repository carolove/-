{
 "cells": [
  {
   "cell_type": "markdown",
   "metadata": {},
   "source": [
    "# 编写在triton tutorial 2.3.1的dropout章节的作业\n",
    "- 目标是在教程的一维的基础上，学习写一个二维的dropout"
   ]
  },
  {
   "cell_type": "markdown",
   "metadata": {},
   "source": [
    "## 整个kernel氛围四大部分\n",
    "- 1、定义pid\n",
    "- 2、定义地址以及offset\n",
    "- 3、输入加载以及算法主体\n",
    "- 4、结果store"
   ]
  },
  {
   "cell_type": "code",
   "execution_count": 3,
   "metadata": {},
   "outputs": [],
   "source": [
    "import torch\n",
    "\n",
    "import triton\n",
    "import triton.language as tl"
   ]
  },
  {
   "cell_type": "code",
   "execution_count": 4,
   "metadata": {},
   "outputs": [],
   "source": [
    "@triton.jit\n",
    "def dropout_2D_kernel(output_ptr, input_ptr, input_row_stride, output_row_stride,p, seed, n_cols, BLOCK_SIZE: tl.constexpr):\n",
    "    # 这段是确定pid分布以及ptr布局\n",
    "    row_idx = tl.program_id(axis=0)\n",
    "    # the stribe represents how much we need to increase the pointer to advance 1 row\n",
    "    row_start_ptr = input_ptr + row_idx * input_row_stride\n",
    "    output_start_ptr = output_ptr + row_idx * output_row_stride\n",
    "    # th block size is the next power of 2 greater than n_cols, so we can fit each\n",
    "    # row in a single block\n",
    "    col_offsets = tl.arange(0, BLOCK_SIZE)\n",
    "    input_ptrs = row_start_ptr + col_offsets\n",
    "\n",
    "    # 加载\n",
    "    # load the row into SRAM, using a mask since Block size may be greater than n_cols\n",
    "    x = tl.load(input_ptrs, mask=col_offsets < n_cols, other=-float('inf'))\n",
    "\n",
    "    # 计算\n",
    "    random  = tl.rand(seed, col_offsets)\n",
    "    x_keep = random > p\n",
    "    output = tl.where(x_keep, x/(1-p), 0.0)\n",
    "\n",
    "\n",
    "    # 存储\n",
    "    tl.store(output_start_ptr+col_offsets, output, mask=col_offsets < n_cols)\n",
    "\n",
    "\n",
    "    return"
   ]
  },
  {
   "cell_type": "code",
   "execution_count": null,
   "metadata": {},
   "outputs": [],
   "source": []
  }
 ],
 "metadata": {
  "kernelspec": {
   "display_name": ".venv",
   "language": "python",
   "name": "python3"
  },
  "language_info": {
   "codemirror_mode": {
    "name": "ipython",
    "version": 3
   },
   "file_extension": ".py",
   "mimetype": "text/x-python",
   "name": "python",
   "nbconvert_exporter": "python",
   "pygments_lexer": "ipython3",
   "version": "3.10.12"
  }
 },
 "nbformat": 4,
 "nbformat_minor": 2
}
