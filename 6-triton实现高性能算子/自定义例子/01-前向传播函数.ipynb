{
 "cells": [
  {
   "cell_type": "code",
   "execution_count": 6,
   "metadata": {},
   "outputs": [],
   "source": [
    "import torch\n",
    "\n",
    "import torch.nn as nn\n",
    "from torch.nn import functional as F\n",
    "\n",
    "import triton\n",
    "\n",
    "import triton.language as tl\n",
    "import numpy as np\n",
    "np.set_printoptions(precision=4, suppress=True, linewidth=200)\n",
    "torch.backends.cudnn.benchmark = True\n",
    "# turn off TF32 for higher accuracy\n",
    "torch.backends.cudnn.allow_tf32 = False\n",
    "torch.backends.cuda.matmul.allow_tf32 = False\n",
    "\n"
   ]
  },
  {
   "cell_type": "code",
   "execution_count": null,
   "metadata": {},
   "outputs": [],
   "source": [
    "@triton.jit\n",
    "def _forward():\n",
    "    \n",
    "    return"
   ]
  },
  {
   "cell_type": "code",
   "execution_count": 7,
   "metadata": {},
   "outputs": [],
   "source": [
    "######################################################################################################\n",
    "# The formula:\n",
    "# w.shape = (C, T)\n",
    "# k.shape = (B, C, T)\n",
    "# out.shape = (B, C, T)\n",
    "# out[b][c][t] = sum_u{ w[c][(T-1)-(t-u)] * k[b][c][u] }\n",
    "######################################################################################################\n",
    "\n",
    "\n",
    "def RUN_FORMULA_VERY_SLOW(w, k, B, C, T, eps):\n",
    "    # this is the formula (very slow)\n",
    "    out = torch.empty((B, C, T), device='cuda')\n",
    "    for b in range(B):\n",
    "        for c in range(C):\n",
    "            for t in range(T):\n",
    "                s = eps\n",
    "                for u in range(0, t+1):\n",
    "                    s += w[c][(T-1)-(t-u)] * k[b][c][u]\n",
    "                out[b][c][t] = s\n",
    "    return out\n",
    "\n",
    "\n",
    "def RUN_PYTORCH(w, k, B, C, T, eps):\n",
    "    # this shall equal the formula\n",
    "    return F.conv1d(nn.ZeroPad2d((T-1, 0, 0, 0))(k), w.unsqueeze(1), groups=C) + eps\n",
    "\n",
    "\n",
    "def set_seed(seed):\n",
    "    np.random.seed(seed)\n",
    "    torch.manual_seed(seed)\n",
    "    torch.cuda.manual_seed_all(seed)\n",
    "\n"
   ]
  },
  {
   "cell_type": "code",
   "execution_count": 8,
   "metadata": {},
   "outputs": [],
   "source": [
    "######################################################################################################\n",
    "# Check correctness & speed benchmark\n",
    "######################################################################################################\n",
    "\n",
    "def CHECK_PYTORCH():\n",
    "    B = 3\n",
    "    C = 5\n",
    "    T = 11\n",
    "    eps = 0.1\n",
    "\n",
    "    set_seed(42)\n",
    "    w = torch.rand(C, T, requires_grad=True, device='cuda')\n",
    "    k = torch.rand(B, C, T, requires_grad=True, device='cuda')\n",
    "\n",
    "    r0 = RUN_FORMULA_VERY_SLOW(w, k, B, C, T, eps)\n",
    "    r1 = RUN_PYTORCH(w, k, B, C, T, eps)\n",
    "\n",
    "    print('--> pytorch correct =', torch.allclose(r0, r1))"
   ]
  },
  {
   "cell_type": "code",
   "execution_count": 9,
   "metadata": {},
   "outputs": [
    {
     "name": "stdout",
     "output_type": "stream",
     "text": [
      "--> pytorch correct = True\n"
     ]
    }
   ],
   "source": [
    "CHECK_PYTORCH()"
   ]
  }
 ],
 "metadata": {
  "kernelspec": {
   "display_name": ".venv",
   "language": "python",
   "name": "python3"
  },
  "language_info": {
   "codemirror_mode": {
    "name": "ipython",
    "version": 3
   },
   "file_extension": ".py",
   "mimetype": "text/x-python",
   "name": "python",
   "nbconvert_exporter": "python",
   "pygments_lexer": "ipython3",
   "version": "3.10.12"
  }
 },
 "nbformat": 4,
 "nbformat_minor": 2
}
