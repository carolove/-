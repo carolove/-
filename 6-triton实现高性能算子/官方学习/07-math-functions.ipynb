{
 "cells": [
  {
   "cell_type": "code",
   "execution_count": 1,
   "metadata": {},
   "outputs": [
    {
     "name": "stdout",
     "output_type": "stream",
     "text": [
      "tensor([0.4105, 0.5430, 0.0249,  ..., 0.0434, 0.0379, 1.3100], device='cuda:0')\n",
      "tensor([0.4105, 0.5430, 0.0249,  ..., 0.0434, 0.0379, 1.3100], device='cuda:0')\n",
      "The maximum difference between torch and triton is 2.384185791015625e-07\n",
      "tensor([0.4105, 0.5430, 0.0249,  ..., 0.0434, 0.0379, 1.3100], device='cuda:0')\n",
      "tensor([0.4105, 0.5430, 0.0249,  ..., 0.0434, 0.0379, 1.3100], device='cuda:0')\n",
      "The maximum difference between torch and triton is 0.0\n"
     ]
    }
   ],
   "source": [
    "\"\"\"\n",
    "Libdevice (`tl.math`) function\n",
    "==============================\n",
    "Triton can invoke a custom function from an external library.\n",
    "In this example, we will use the `libdevice` library (a.k.a `math` in triton) to apply `asin` on a tensor.\n",
    "Please refer to https://docs.nvidia.com/cuda/libdevice-users-guide/index.html regarding the semantics of all available libdevice functions.\n",
    "In `triton/language/math.py`, we try to aggregate functions with the same computation but different data types together.\n",
    "For example, both `__nv_asin` and `__nvasinf` calculate the principal value of the arc sine of the input, but `__nv_asin` operates on `double` and `__nv_asinf` operates on `float`.\n",
    "Using triton, you can simply call `tl.math.asin`.\n",
    "Triton automatically selects the correct underlying device function to invoke based on input and output types.\n",
    "\"\"\"\n",
    "\n",
    "# %%\n",
    "#  asin Kernel\n",
    "# ------------\n",
    "\n",
    "import torch\n",
    "\n",
    "import triton\n",
    "import triton.language as tl\n",
    "\n",
    "\n",
    "@triton.jit\n",
    "def asin_kernel(\n",
    "    x_ptr,\n",
    "    y_ptr,\n",
    "    n_elements,\n",
    "    BLOCK_SIZE: tl.constexpr,\n",
    "):\n",
    "    pid = tl.program_id(axis=0)\n",
    "    block_start = pid * BLOCK_SIZE\n",
    "    offsets = block_start + tl.arange(0, BLOCK_SIZE)\n",
    "    mask = offsets < n_elements\n",
    "    x = tl.load(x_ptr + offsets, mask=mask)\n",
    "    x = tl.math.asin(x)\n",
    "    tl.store(y_ptr + offsets, x, mask=mask)\n",
    "\n",
    "\n",
    "# %%\n",
    "#  Using the default libdevice library path\n",
    "# -----------------------------------------\n",
    "# We can use the default libdevice library path encoded in `triton/language/math.py`\n",
    "\n",
    "torch.manual_seed(0)\n",
    "size = 98432\n",
    "x = torch.rand(size, device='cuda')\n",
    "output_triton = torch.zeros(size, device='cuda')\n",
    "output_torch = torch.asin(x)\n",
    "assert x.is_cuda and output_triton.is_cuda\n",
    "n_elements = output_torch.numel()\n",
    "grid = lambda meta: (triton.cdiv(n_elements, meta['BLOCK_SIZE']), )\n",
    "asin_kernel[grid](x, output_triton, n_elements, BLOCK_SIZE=1024)\n",
    "print(output_torch)\n",
    "print(output_triton)\n",
    "print(f'The maximum difference between torch and triton is '\n",
    "      f'{torch.max(torch.abs(output_torch - output_triton))}')\n",
    "\n",
    "# %%\n",
    "#  Customize the libdevice library path\n",
    "# -------------------------------------\n",
    "# We can also customize the libdevice library path by passing the path to the `libdevice` library to the `asin` kernel.\n",
    "\n",
    "output_triton = torch.empty_like(x)\n",
    "asin_kernel[grid](x, output_triton, n_elements, BLOCK_SIZE=1024,\n",
    "                  extern_libs={'libdevice': '/usr/local/cuda/nvvm/libdevice/libdevice.10.bc'})\n",
    "print(output_torch)\n",
    "print(output_triton)\n",
    "print(f'The maximum difference between torch and triton is '\n",
    "      f'{torch.max(torch.abs(output_torch - output_triton))}')\n"
   ]
  }
 ],
 "metadata": {
  "kernelspec": {
   "display_name": ".venv",
   "language": "python",
   "name": "python3"
  },
  "language_info": {
   "codemirror_mode": {
    "name": "ipython",
    "version": 3
   },
   "file_extension": ".py",
   "mimetype": "text/x-python",
   "name": "python",
   "nbconvert_exporter": "python",
   "pygments_lexer": "ipython3",
   "version": "3.10.12"
  }
 },
 "nbformat": 4,
 "nbformat_minor": 2
}
